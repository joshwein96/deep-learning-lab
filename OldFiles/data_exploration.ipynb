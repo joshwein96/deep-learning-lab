{
 "cells": [
  {
   "cell_type": "code",
   "execution_count": 4,
   "id": "a734f82b",
   "metadata": {},
   "outputs": [],
   "source": [
    "import pandas as pd\n",
    "import matplotlib.pyplot as plt"
   ]
  },
  {
   "cell_type": "code",
   "execution_count": 5,
   "id": "3c38d9e1",
   "metadata": {},
   "outputs": [],
   "source": [
    "df = pd.read_csv(r\"C:\\Users\\joshu\\sciebo\\10. Semester\\DLLab\\train.csv\\train.csv\", low_memory=False)"
   ]
  },
  {
   "cell_type": "code",
   "execution_count": 3,
   "id": "99715dfb",
   "metadata": {},
   "outputs": [
    {
     "data": {
      "text/html": [
       "<div>\n",
       "<style scoped>\n",
       "    .dataframe tbody tr th:only-of-type {\n",
       "        vertical-align: middle;\n",
       "    }\n",
       "\n",
       "    .dataframe tbody tr th {\n",
       "        vertical-align: top;\n",
       "    }\n",
       "\n",
       "    .dataframe thead th {\n",
       "        text-align: right;\n",
       "    }\n",
       "</style>\n",
       "<table border=\"1\" class=\"dataframe\">\n",
       "  <thead>\n",
       "    <tr style=\"text-align: right;\">\n",
       "      <th></th>\n",
       "      <th>id</th>\n",
       "      <th>target</th>\n",
       "      <th>home_team_name</th>\n",
       "      <th>away_team_name</th>\n",
       "      <th>match_date</th>\n",
       "      <th>league_name</th>\n",
       "      <th>league_id</th>\n",
       "      <th>is_cup</th>\n",
       "      <th>home_team_coach_id</th>\n",
       "      <th>away_team_coach_id</th>\n",
       "      <th>...</th>\n",
       "      <th>away_team_history_league_id_1</th>\n",
       "      <th>away_team_history_league_id_2</th>\n",
       "      <th>away_team_history_league_id_3</th>\n",
       "      <th>away_team_history_league_id_4</th>\n",
       "      <th>away_team_history_league_id_5</th>\n",
       "      <th>away_team_history_league_id_6</th>\n",
       "      <th>away_team_history_league_id_7</th>\n",
       "      <th>away_team_history_league_id_8</th>\n",
       "      <th>away_team_history_league_id_9</th>\n",
       "      <th>away_team_history_league_id_10</th>\n",
       "    </tr>\n",
       "  </thead>\n",
       "  <tbody>\n",
       "    <tr>\n",
       "      <th>0</th>\n",
       "      <td>11906497</td>\n",
       "      <td>away</td>\n",
       "      <td>Newell's Old Boys</td>\n",
       "      <td>River Plate</td>\n",
       "      <td>2019-12-01 00:45:00</td>\n",
       "      <td>Superliga</td>\n",
       "      <td>636</td>\n",
       "      <td>False</td>\n",
       "      <td>468196.0</td>\n",
       "      <td>468200.0</td>\n",
       "      <td>...</td>\n",
       "      <td>1122.0</td>\n",
       "      <td>642.0</td>\n",
       "      <td>636.0</td>\n",
       "      <td>636.0</td>\n",
       "      <td>636.0</td>\n",
       "      <td>1122.0</td>\n",
       "      <td>636.0</td>\n",
       "      <td>642.0</td>\n",
       "      <td>636.0</td>\n",
       "      <td>1122.0</td>\n",
       "    </tr>\n",
       "    <tr>\n",
       "      <th>1</th>\n",
       "      <td>11984383</td>\n",
       "      <td>home</td>\n",
       "      <td>Real Estelí</td>\n",
       "      <td>Deportivo Las Sabanas</td>\n",
       "      <td>2019-12-01 01:00:00</td>\n",
       "      <td>Primera Division</td>\n",
       "      <td>752</td>\n",
       "      <td>False</td>\n",
       "      <td>516788.0</td>\n",
       "      <td>22169161.0</td>\n",
       "      <td>...</td>\n",
       "      <td>752.0</td>\n",
       "      <td>752.0</td>\n",
       "      <td>752.0</td>\n",
       "      <td>752.0</td>\n",
       "      <td>752.0</td>\n",
       "      <td>752.0</td>\n",
       "      <td>752.0</td>\n",
       "      <td>752.0</td>\n",
       "      <td>752.0</td>\n",
       "      <td>752.0</td>\n",
       "    </tr>\n",
       "    <tr>\n",
       "      <th>2</th>\n",
       "      <td>11983301</td>\n",
       "      <td>draw</td>\n",
       "      <td>UPNFM</td>\n",
       "      <td>Marathón</td>\n",
       "      <td>2019-12-01 01:00:00</td>\n",
       "      <td>Liga Nacional</td>\n",
       "      <td>734</td>\n",
       "      <td>False</td>\n",
       "      <td>2510608.0</td>\n",
       "      <td>456313.0</td>\n",
       "      <td>...</td>\n",
       "      <td>734.0</td>\n",
       "      <td>734.0</td>\n",
       "      <td>734.0</td>\n",
       "      <td>734.0</td>\n",
       "      <td>734.0</td>\n",
       "      <td>734.0</td>\n",
       "      <td>734.0</td>\n",
       "      <td>734.0</td>\n",
       "      <td>734.0</td>\n",
       "      <td>734.0</td>\n",
       "    </tr>\n",
       "    <tr>\n",
       "      <th>3</th>\n",
       "      <td>11983471</td>\n",
       "      <td>away</td>\n",
       "      <td>León</td>\n",
       "      <td>Morelia</td>\n",
       "      <td>2019-12-01 01:00:00</td>\n",
       "      <td>Liga MX</td>\n",
       "      <td>743</td>\n",
       "      <td>False</td>\n",
       "      <td>1552508.0</td>\n",
       "      <td>465797.0</td>\n",
       "      <td>...</td>\n",
       "      <td>743.0</td>\n",
       "      <td>743.0</td>\n",
       "      <td>743.0</td>\n",
       "      <td>743.0</td>\n",
       "      <td>743.0</td>\n",
       "      <td>743.0</td>\n",
       "      <td>743.0</td>\n",
       "      <td>743.0</td>\n",
       "      <td>746.0</td>\n",
       "      <td>743.0</td>\n",
       "    </tr>\n",
       "    <tr>\n",
       "      <th>4</th>\n",
       "      <td>11883005</td>\n",
       "      <td>home</td>\n",
       "      <td>Cobán Imperial</td>\n",
       "      <td>Iztapa</td>\n",
       "      <td>2019-12-01 01:00:00</td>\n",
       "      <td>Liga Nacional</td>\n",
       "      <td>705</td>\n",
       "      <td>False</td>\n",
       "      <td>429958.0</td>\n",
       "      <td>426870.0</td>\n",
       "      <td>...</td>\n",
       "      <td>705.0</td>\n",
       "      <td>705.0</td>\n",
       "      <td>705.0</td>\n",
       "      <td>705.0</td>\n",
       "      <td>705.0</td>\n",
       "      <td>705.0</td>\n",
       "      <td>705.0</td>\n",
       "      <td>705.0</td>\n",
       "      <td>705.0</td>\n",
       "      <td>705.0</td>\n",
       "    </tr>\n",
       "  </tbody>\n",
       "</table>\n",
       "<p>5 rows × 190 columns</p>\n",
       "</div>"
      ],
      "text/plain": [
       "         id target     home_team_name         away_team_name  \\\n",
       "0  11906497   away  Newell's Old Boys            River Plate   \n",
       "1  11984383   home        Real Estelí  Deportivo Las Sabanas   \n",
       "2  11983301   draw              UPNFM               Marathón   \n",
       "3  11983471   away               León                Morelia   \n",
       "4  11883005   home     Cobán Imperial                 Iztapa   \n",
       "\n",
       "            match_date       league_name  league_id is_cup  \\\n",
       "0  2019-12-01 00:45:00         Superliga        636  False   \n",
       "1  2019-12-01 01:00:00  Primera Division        752  False   \n",
       "2  2019-12-01 01:00:00     Liga Nacional        734  False   \n",
       "3  2019-12-01 01:00:00           Liga MX        743  False   \n",
       "4  2019-12-01 01:00:00     Liga Nacional        705  False   \n",
       "\n",
       "   home_team_coach_id  away_team_coach_id  ... away_team_history_league_id_1  \\\n",
       "0            468196.0            468200.0  ...                        1122.0   \n",
       "1            516788.0          22169161.0  ...                         752.0   \n",
       "2           2510608.0            456313.0  ...                         734.0   \n",
       "3           1552508.0            465797.0  ...                         743.0   \n",
       "4            429958.0            426870.0  ...                         705.0   \n",
       "\n",
       "  away_team_history_league_id_2 away_team_history_league_id_3  \\\n",
       "0                         642.0                         636.0   \n",
       "1                         752.0                         752.0   \n",
       "2                         734.0                         734.0   \n",
       "3                         743.0                         743.0   \n",
       "4                         705.0                         705.0   \n",
       "\n",
       "  away_team_history_league_id_4 away_team_history_league_id_5  \\\n",
       "0                         636.0                         636.0   \n",
       "1                         752.0                         752.0   \n",
       "2                         734.0                         734.0   \n",
       "3                         743.0                         743.0   \n",
       "4                         705.0                         705.0   \n",
       "\n",
       "  away_team_history_league_id_6 away_team_history_league_id_7  \\\n",
       "0                        1122.0                         636.0   \n",
       "1                         752.0                         752.0   \n",
       "2                         734.0                         734.0   \n",
       "3                         743.0                         743.0   \n",
       "4                         705.0                         705.0   \n",
       "\n",
       "  away_team_history_league_id_8 away_team_history_league_id_9  \\\n",
       "0                         642.0                         636.0   \n",
       "1                         752.0                         752.0   \n",
       "2                         734.0                         734.0   \n",
       "3                         743.0                         746.0   \n",
       "4                         705.0                         705.0   \n",
       "\n",
       "  away_team_history_league_id_10  \n",
       "0                         1122.0  \n",
       "1                          752.0  \n",
       "2                          734.0  \n",
       "3                          743.0  \n",
       "4                          705.0  \n",
       "\n",
       "[5 rows x 190 columns]"
      ]
     },
     "execution_count": 3,
     "metadata": {},
     "output_type": "execute_result"
    }
   ],
   "source": [
    "df.head()"
   ]
  },
  {
   "cell_type": "code",
   "execution_count": 4,
   "id": "d4d7283a",
   "metadata": {},
   "outputs": [
    {
     "data": {
      "text/plain": [
       "(110938, 190)"
      ]
     },
     "execution_count": 4,
     "metadata": {},
     "output_type": "execute_result"
    }
   ],
   "source": [
    "df.shape"
   ]
  },
  {
   "cell_type": "code",
   "execution_count": 5,
   "id": "8cd881f6",
   "metadata": {},
   "outputs": [],
   "source": [
    "df = df.drop_duplicates()"
   ]
  },
  {
   "cell_type": "code",
   "execution_count": 6,
   "id": "6f72a241",
   "metadata": {},
   "outputs": [
    {
     "data": {
      "text/plain": [
       "(110938, 190)"
      ]
     },
     "execution_count": 6,
     "metadata": {},
     "output_type": "execute_result"
    }
   ],
   "source": [
    "df.shape"
   ]
  },
  {
   "cell_type": "code",
   "execution_count": 7,
   "id": "c98f0a96",
   "metadata": {},
   "outputs": [],
   "source": [
    "# dataframe shoud be loaded correctly\n",
    "# there are no duplicates\n",
    "# let's have a look at features and NaN next"
   ]
  },
  {
   "cell_type": "code",
   "execution_count": 8,
   "id": "f94f9c7e",
   "metadata": {},
   "outputs": [
    {
     "data": {
      "text/plain": [
       "target                                   0\n",
       "home_team_name                           1\n",
       "away_team_name                           1\n",
       "match_date                               0\n",
       "league_name                              1\n",
       "league_id                                0\n",
       "is_cup                                   1\n",
       "home_team_coach_id                   21721\n",
       "away_team_coach_id                   21815\n",
       "home_team_history_match_date_1        1159\n",
       "home_team_history_match_date_2        2451\n",
       "home_team_history_match_date_3        3773\n",
       "home_team_history_match_date_4        5101\n",
       "home_team_history_match_date_5        6477\n",
       "home_team_history_match_date_6        7896\n",
       "home_team_history_match_date_7        9295\n",
       "home_team_history_match_date_8       10719\n",
       "home_team_history_match_date_9       12136\n",
       "home_team_history_match_date_10      13559\n",
       "home_team_history_is_play_home_1      1159\n",
       "home_team_history_is_play_home_2      2451\n",
       "home_team_history_is_play_home_3      3773\n",
       "home_team_history_is_play_home_4      5101\n",
       "home_team_history_is_play_home_5      6477\n",
       "home_team_history_is_play_home_6      7896\n",
       "home_team_history_is_play_home_7      9295\n",
       "home_team_history_is_play_home_8     10719\n",
       "home_team_history_is_play_home_9     12136\n",
       "home_team_history_is_play_home_10    13559\n",
       "home_team_history_is_cup_1            1213\n",
       "home_team_history_is_cup_2            2557\n",
       "home_team_history_is_cup_3            3913\n",
       "home_team_history_is_cup_4            5299\n",
       "home_team_history_is_cup_5            6748\n",
       "home_team_history_is_cup_6            8231\n",
       "home_team_history_is_cup_7            9720\n",
       "home_team_history_is_cup_8           11263\n",
       "home_team_history_is_cup_9           12730\n",
       "home_team_history_is_cup_10          14186\n",
       "home_team_history_goal_1              1159\n",
       "home_team_history_goal_2              2451\n",
       "home_team_history_goal_3              3773\n",
       "home_team_history_goal_4              5101\n",
       "home_team_history_goal_5              6477\n",
       "home_team_history_goal_6              7896\n",
       "home_team_history_goal_7              9295\n",
       "home_team_history_goal_8             10719\n",
       "home_team_history_goal_9             12136\n",
       "home_team_history_goal_10            13559\n",
       "dtype: int64"
      ]
     },
     "execution_count": 8,
     "metadata": {},
     "output_type": "execute_result"
    }
   ],
   "source": [
    "df.isnull().sum()[1:50]"
   ]
  },
  {
   "cell_type": "code",
   "execution_count": 9,
   "id": "a9e614c7",
   "metadata": {},
   "outputs": [
    {
     "data": {
      "text/plain": [
       "home_team_history_opponent_goal_2        2451\n",
       "home_team_history_opponent_goal_3        3773\n",
       "home_team_history_opponent_goal_4        5101\n",
       "home_team_history_opponent_goal_5        6477\n",
       "home_team_history_opponent_goal_6        7896\n",
       "home_team_history_opponent_goal_7        9295\n",
       "home_team_history_opponent_goal_8       10719\n",
       "home_team_history_opponent_goal_9       12136\n",
       "home_team_history_opponent_goal_10      13559\n",
       "home_team_history_rating_1               1171\n",
       "home_team_history_rating_2               2466\n",
       "home_team_history_rating_3               3785\n",
       "home_team_history_rating_4               5117\n",
       "home_team_history_rating_5               6485\n",
       "home_team_history_rating_6               7909\n",
       "home_team_history_rating_7               9308\n",
       "home_team_history_rating_8              10729\n",
       "home_team_history_rating_9              12141\n",
       "home_team_history_rating_10             13566\n",
       "home_team_history_opponent_rating_1      1171\n",
       "home_team_history_opponent_rating_2      2466\n",
       "home_team_history_opponent_rating_3      3785\n",
       "home_team_history_opponent_rating_4      5117\n",
       "home_team_history_opponent_rating_5      6485\n",
       "home_team_history_opponent_rating_6      7909\n",
       "home_team_history_opponent_rating_7      9308\n",
       "home_team_history_opponent_rating_8     10729\n",
       "home_team_history_opponent_rating_9     12141\n",
       "home_team_history_opponent_rating_10    13566\n",
       "home_team_history_coach_1               21523\n",
       "home_team_history_coach_2               21571\n",
       "home_team_history_coach_3               21733\n",
       "home_team_history_coach_4               22118\n",
       "home_team_history_coach_5               22602\n",
       "home_team_history_coach_6               23258\n",
       "home_team_history_coach_7               23980\n",
       "home_team_history_coach_8               24869\n",
       "home_team_history_coach_9               25733\n",
       "home_team_history_coach_10              26653\n",
       "home_team_history_league_id_1            1159\n",
       "home_team_history_league_id_2            2451\n",
       "home_team_history_league_id_3            3773\n",
       "home_team_history_league_id_4            5101\n",
       "home_team_history_league_id_5            6477\n",
       "home_team_history_league_id_6            7896\n",
       "home_team_history_league_id_7            9295\n",
       "home_team_history_league_id_8           10719\n",
       "home_team_history_league_id_9           12136\n",
       "home_team_history_league_id_10          13559\n",
       "dtype: int64"
      ]
     },
     "execution_count": 9,
     "metadata": {},
     "output_type": "execute_result"
    }
   ],
   "source": [
    "df.isnull().sum()[51:100]"
   ]
  },
  {
   "cell_type": "code",
   "execution_count": 10,
   "id": "e6977cc7",
   "metadata": {},
   "outputs": [
    {
     "data": {
      "text/plain": [
       "away_team_history_match_date_2         2593\n",
       "away_team_history_match_date_3         4034\n",
       "away_team_history_match_date_4         5516\n",
       "away_team_history_match_date_5         7000\n",
       "away_team_history_match_date_6         8426\n",
       "away_team_history_match_date_7         9867\n",
       "away_team_history_match_date_8        11295\n",
       "away_team_history_match_date_9        12762\n",
       "away_team_history_match_date_10       14216\n",
       "away_team_history_is_play_home_1       1226\n",
       "away_team_history_is_play_home_2       2593\n",
       "away_team_history_is_play_home_3       4034\n",
       "away_team_history_is_play_home_4       5516\n",
       "away_team_history_is_play_home_5       7000\n",
       "away_team_history_is_play_home_6       8426\n",
       "away_team_history_is_play_home_7       9867\n",
       "away_team_history_is_play_home_8      11295\n",
       "away_team_history_is_play_home_9      12762\n",
       "away_team_history_is_play_home_10     14216\n",
       "away_team_history_is_cup_1             1274\n",
       "away_team_history_is_cup_2             2681\n",
       "away_team_history_is_cup_3             4172\n",
       "away_team_history_is_cup_4             5721\n",
       "away_team_history_is_cup_5             7255\n",
       "away_team_history_is_cup_6             8747\n",
       "away_team_history_is_cup_7            10283\n",
       "away_team_history_is_cup_8            11779\n",
       "away_team_history_is_cup_9            13305\n",
       "away_team_history_is_cup_10           14819\n",
       "away_team_history_goal_1               1226\n",
       "away_team_history_goal_2               2593\n",
       "away_team_history_goal_3               4034\n",
       "away_team_history_goal_4               5516\n",
       "away_team_history_goal_5               7000\n",
       "away_team_history_goal_6               8426\n",
       "away_team_history_goal_7               9867\n",
       "away_team_history_goal_8              11295\n",
       "away_team_history_goal_9              12762\n",
       "away_team_history_goal_10             14216\n",
       "away_team_history_opponent_goal_1      1226\n",
       "away_team_history_opponent_goal_2      2593\n",
       "away_team_history_opponent_goal_3      4034\n",
       "away_team_history_opponent_goal_4      5516\n",
       "away_team_history_opponent_goal_5      7000\n",
       "away_team_history_opponent_goal_6      8426\n",
       "away_team_history_opponent_goal_7      9867\n",
       "away_team_history_opponent_goal_8     11295\n",
       "away_team_history_opponent_goal_9     12762\n",
       "away_team_history_opponent_goal_10    14216\n",
       "dtype: int64"
      ]
     },
     "execution_count": 10,
     "metadata": {},
     "output_type": "execute_result"
    }
   ],
   "source": [
    "df.isnull().sum()[101:150]"
   ]
  },
  {
   "cell_type": "code",
   "execution_count": 11,
   "id": "451210e6",
   "metadata": {},
   "outputs": [
    {
     "data": {
      "text/plain": [
       "away_team_history_rating_1               1239\n",
       "away_team_history_rating_2               2603\n",
       "away_team_history_rating_3               4047\n",
       "away_team_history_rating_4               5525\n",
       "away_team_history_rating_5               7016\n",
       "away_team_history_rating_6               8437\n",
       "away_team_history_rating_7               9878\n",
       "away_team_history_rating_8              11303\n",
       "away_team_history_rating_9              12772\n",
       "away_team_history_rating_10             14223\n",
       "away_team_history_opponent_rating_1      1239\n",
       "away_team_history_opponent_rating_2      2603\n",
       "away_team_history_opponent_rating_3      4047\n",
       "away_team_history_opponent_rating_4      5525\n",
       "away_team_history_opponent_rating_5      7016\n",
       "away_team_history_opponent_rating_6      8437\n",
       "away_team_history_opponent_rating_7      9878\n",
       "away_team_history_opponent_rating_8     11303\n",
       "away_team_history_opponent_rating_9     12772\n",
       "away_team_history_opponent_rating_10    14223\n",
       "away_team_history_coach_1               21641\n",
       "away_team_history_coach_2               21696\n",
       "away_team_history_coach_3               21949\n",
       "away_team_history_coach_4               22294\n",
       "away_team_history_coach_5               22855\n",
       "away_team_history_coach_6               23525\n",
       "away_team_history_coach_7               24377\n",
       "away_team_history_coach_8               25219\n",
       "away_team_history_coach_9               26150\n",
       "away_team_history_coach_10              27129\n",
       "away_team_history_league_id_1            1226\n",
       "away_team_history_league_id_2            2593\n",
       "away_team_history_league_id_3            4034\n",
       "away_team_history_league_id_4            5516\n",
       "away_team_history_league_id_5            7000\n",
       "away_team_history_league_id_6            8426\n",
       "away_team_history_league_id_7            9867\n",
       "away_team_history_league_id_8           11295\n",
       "away_team_history_league_id_9           12762\n",
       "away_team_history_league_id_10          14216\n",
       "dtype: int64"
      ]
     },
     "execution_count": 11,
     "metadata": {},
     "output_type": "execute_result"
    }
   ],
   "source": [
    "df.isnull().sum()[150:190]"
   ]
  },
  {
   "cell_type": "code",
   "execution_count": 12,
   "id": "601491c2",
   "metadata": {},
   "outputs": [],
   "source": [
    "# history not perfect for every game\n",
    "# seems like per row all of the values are either there or not\n",
    "# for some games the history is shorter than 10 games\n",
    "# would suggest dropping these games (~15% of data)\n",
    "#\n",
    "# coach_ids seam to be shitty (~25% missing)\n",
    "# however this does not yield much information\n",
    "# would suggest dropping the coach_ids"
   ]
  },
  {
   "cell_type": "code",
   "execution_count": 13,
   "id": "82b258ba",
   "metadata": {},
   "outputs": [
    {
     "name": "stderr",
     "output_type": "stream",
     "text": [
      "/var/folders/n4/r1237jsd757by57pvf6gql6h0000gn/T/ipykernel_35159/1417320673.py:5: FutureWarning: In a future version of pandas all arguments of DataFrame.drop except for the argument 'labels' will be keyword-only\n",
      "  df = df.drop(shitty_features, 1)\n"
     ]
    }
   ],
   "source": [
    "shitty_features = ['home_team_coach_id', 'away_team_coach_id']\n",
    "shitty_features.extend([feature for feature in df.columns[80:90]])   # home_team_history_coach_X\n",
    "shitty_features.extend([feature for feature in df.columns[170:180]]) # away_team_history_coach_X\n",
    "\n",
    "df = df.drop(shitty_features, 1)\n",
    "df = df.dropna()"
   ]
  },
  {
   "cell_type": "code",
   "execution_count": 14,
   "id": "6c500ae6",
   "metadata": {},
   "outputs": [
    {
     "data": {
      "text/plain": [
       "(90258, 168)"
      ]
     },
     "execution_count": 14,
     "metadata": {},
     "output_type": "execute_result"
    }
   ],
   "source": [
    "df.shape"
   ]
  },
  {
   "cell_type": "code",
   "execution_count": 15,
   "id": "42f79d90",
   "metadata": {},
   "outputs": [],
   "source": [
    "# NaN & duplicates dropped\n",
    "# data cleaning finished\n",
    "# lost ~18% of data and the coach_ids (22 features)\n",
    "#\n",
    "# lets have a look at the features"
   ]
  },
  {
   "cell_type": "code",
   "execution_count": 16,
   "id": "b048addb",
   "metadata": {},
   "outputs": [
    {
     "data": {
      "text/plain": [
       "home    0.430466\n",
       "away    0.314764\n",
       "draw    0.254770\n",
       "Name: target, dtype: float64"
      ]
     },
     "execution_count": 16,
     "metadata": {},
     "output_type": "execute_result"
    }
   ],
   "source": [
    "df.target.value_counts() / df.shape[0]"
   ]
  },
  {
   "cell_type": "code",
   "execution_count": 17,
   "id": "75fe7de9",
   "metadata": {},
   "outputs": [
    {
     "data": {
      "text/plain": [
       "False    0.924926\n",
       "True     0.075074\n",
       "Name: is_cup, dtype: float64"
      ]
     },
     "execution_count": 17,
     "metadata": {},
     "output_type": "execute_result"
    }
   ],
   "source": [
    "df.is_cup.value_counts() / df.shape[0]"
   ]
  },
  {
   "cell_type": "code",
   "execution_count": 18,
   "id": "ae18b725",
   "metadata": {},
   "outputs": [
    {
     "data": {
      "text/plain": [
       "Al Ittihad                    81\n",
       "River Plate                   71\n",
       "Liverpool                     63\n",
       "Rangers                       62\n",
       "Internacional                 59\n",
       "                              ..\n",
       "Tokyo U23                      1\n",
       "Yzeure                         1\n",
       "Corellano                      1\n",
       "Marseille Endoume Catalans     1\n",
       "Rubikon                        1\n",
       "Name: home_team_name, Length: 7271, dtype: int64"
      ]
     },
     "execution_count": 18,
     "metadata": {},
     "output_type": "execute_result"
    }
   ],
   "source": [
    "df.home_team_name.value_counts()"
   ]
  },
  {
   "cell_type": "code",
   "execution_count": 19,
   "id": "dbd8a301",
   "metadata": {},
   "outputs": [
    {
     "name": "stdout",
     "output_type": "stream",
     "text": [
      "18477\n",
      "2019-12-01 00:45:00\n",
      "2021-05-01 00:00:00\n"
     ]
    }
   ],
   "source": [
    "print(len(df.match_date.unique()))\n",
    "print(df.match_date.min())\n",
    "print(df.match_date.max())"
   ]
  },
  {
   "cell_type": "code",
   "execution_count": 20,
   "id": "21ea184f",
   "metadata": {},
   "outputs": [
    {
     "data": {
      "text/plain": [
       "Premier League               0.054333\n",
       "Club Friendlies              0.035642\n",
       "Primera Division             0.025073\n",
       "Super League                 0.015655\n",
       "Ligue 1                      0.011844\n",
       "                               ...   \n",
       "NB 3: Keleti                 0.000011\n",
       "Girabola                     0.000011\n",
       "Supercopa                    0.000011\n",
       "Copa Paraguay                0.000011\n",
       "Victoria Premier League 2    0.000011\n",
       "Name: league_name, Length: 623, dtype: float64"
      ]
     },
     "execution_count": 20,
     "metadata": {},
     "output_type": "execute_result"
    }
   ],
   "source": [
    "df.league_name.value_counts() / df.shape[0]"
   ]
  },
  {
   "cell_type": "code",
   "execution_count": 21,
   "id": "b1f7d8d0",
   "metadata": {},
   "outputs": [
    {
     "data": {
      "image/png": "[encoded data removed]",
      "text/plain": [
       "<Figure size 1440x360 with 3 Axes>"
      ]
     },
     "metadata": {
      "needs_background": "light"
     },
     "output_type": "display_data"
    }
   ],
   "source": [
    "# lets have a look at the home_team_history_rating_X\n",
    "\n",
    "names = [1,2,3,4,5,6,7,8,9,10]\n",
    "means = [df[name].mean() for name in df.columns[58:68]]\n",
    "mins = [df[name].min() for name in df.columns[58:68]]\n",
    "maxs = [df[name].max() for name in df.columns[58:68]]\n",
    "\n",
    "plt.figure(figsize=(20, 5))\n",
    "\n",
    "plt.subplot(131)\n",
    "plt.bar(names, means)\n",
    "plt.subplot(132)\n",
    "plt.bar(names, mins)\n",
    "plt.subplot(133)\n",
    "plt.bar(names, maxs)\n",
    "plt.show()"
   ]
  },
  {
   "cell_type": "code",
   "execution_count": 22,
   "id": "466c1725",
   "metadata": {},
   "outputs": [
    {
     "data": {
      "text/plain": [
       "<AxesSubplot:>"
      ]
     },
     "execution_count": 22,
     "metadata": {},
     "output_type": "execute_result"
    },
    {
     "data": {
      "image/png": "[encoded data removed]",
      "text/plain": [
       "<Figure size 1440x288 with 1 Axes>"
      ]
     },
     "metadata": {
      "needs_background": "light"
     },
     "output_type": "display_data"
    }
   ],
   "source": [
    "# lets have a closer look at the home_team_history_rating_1\n",
    "\n",
    "ratings = pd.cut(df.home_team_history_rating_1, range(20))\n",
    "ratings.value_counts(sort=False).plot.bar(rot=0, figsize=(20,4))"
   ]
  },
  {
   "cell_type": "code",
   "execution_count": null,
   "id": "52a1949d",
   "metadata": {},
   "outputs": [],
   "source": []
  },
  {
   "cell_type": "code",
   "execution_count": null,
   "id": "33e6c5ad",
   "metadata": {},
   "outputs": [],
   "source": []
  },
  {
   "cell_type": "code",
   "execution_count": null,
   "id": "5ca40296",
   "metadata": {},
   "outputs": [],
   "source": []
  }
 ],
 "metadata": {
  "kernelspec": {
   "display_name": "Python 3 (ipykernel)",
   "language": "python",
   "name": "python3"
  },
  "language_info": {
   "codemirror_mode": {
    "name": "ipython",
    "version": 3
   },
   "file_extension": ".py",
   "mimetype": "text/x-python",
   "name": "python",
   "nbconvert_exporter": "python",
   "pygments_lexer": "ipython3",
   "version": "3.9.12"
  }
 },
 "nbformat": 4,
 "nbformat_minor": 5
}
